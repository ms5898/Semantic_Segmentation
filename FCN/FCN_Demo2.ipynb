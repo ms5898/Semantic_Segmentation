{
 "cells": [
  {
   "cell_type": "code",
   "execution_count": 1,
   "metadata": {},
   "outputs": [],
   "source": [
    "from __future__ import print_function\n",
    "\n",
    "import numpy as np\n",
    "import matplotlib.pyplot as plt\n",
    "import torch\n",
    "import torch.nn as nn\n",
    "import torch.optim as optim\n",
    "import torchvision\n",
    "from torchvision import models\n",
    "from torchvision.models.vgg import VGG\n",
    "from torch.utils.data import DataLoader\n",
    "from torchvision import transforms, utils\n",
    "import torch.nn.functional as F\n",
    "from torch.optim import lr_scheduler\n",
    "from torch.autograd import Variable\n",
    "import time\n",
    "import copy\n",
    "\n",
    "import os"
   ]
  },
  {
   "cell_type": "markdown",
   "metadata": {},
   "source": [
    "# Load VOC dataset"
   ]
  },
  {
   "cell_type": "code",
   "execution_count": 2,
   "metadata": {},
   "outputs": [],
   "source": [
    "classes = ['background','aeroplane','bicycle','bird','boat',\n",
    "           'bottle','bus','car','cat','chair','cow','diningtable',\n",
    "           'dog','horse','motorbike','person','potted plant',\n",
    "           'sheep','sofa','train','tv/monitor']\n",
    "\n",
    "# RGB color for each class\n",
    "colormap = [[0,0,0],[128,0,0],[0,128,0], [128,128,0], [0,0,128],\n",
    "            [128,0,128],[0,128,128],[128,128,128],[64,0,0],[192,0,0],\n",
    "            [64,128,0],[192,128,0],[64,0,128],[192,0,128],\n",
    "            [64,128,128],[192,128,128],[0,64,0],[128,64,0],\n",
    "            [0,192,0],[128,192,0],[0,64,128]]\n",
    "\n",
    "class LabelToTensor(object):\n",
    "    def __call__(self, target):\n",
    "        target = np.array(target, dtype=np.float32)\n",
    "        target = np.where(target==255,0, target)\n",
    "        #target = torch.tensor(target).unsqueeze(0)\n",
    "        target = torch.tensor(target)\n",
    "        return target"
   ]
  },
  {
   "cell_type": "code",
   "execution_count": 3,
   "metadata": {},
   "outputs": [],
   "source": [
    "root = './VOC'\n",
    "dataset = torchvision.datasets.VOCSegmentation(root, year='2012', image_set='train', download=False,\n",
    "                                               transform = transforms.Compose([transforms.ToTensor(), \n",
    "                                                                               transforms.Normalize([0.485, 0.456, 0.406], [0.229, 0.224, 0.225])]),\n",
    "                                              target_transform = transforms.Compose([LabelToTensor()]))\n",
    "dataset2 = torchvision.datasets.VOCSegmentation(root, year='2012', image_set='train', download=False)\n",
    "\n",
    "dataloader = DataLoader(dataset, batch_size=1,\n",
    "                        shuffle=True, num_workers=4)"
   ]
  },
  {
   "cell_type": "code",
   "execution_count": 4,
   "metadata": {},
   "outputs": [
    {
     "name": "stdout",
     "output_type": "stream",
     "text": [
      "torch.Size([3, 281, 500])\n",
      "torch.Size([281, 500])\n"
     ]
    }
   ],
   "source": [
    "image, target = dataset[0]\n",
    "print(image.size())\n",
    "print(target.size())"
   ]
  },
  {
   "cell_type": "code",
   "execution_count": null,
   "metadata": {},
   "outputs": [],
   "source": []
  },
  {
   "cell_type": "markdown",
   "metadata": {},
   "source": [
    "# Build FCN"
   ]
  },
  {
   "cell_type": "code",
   "execution_count": 5,
   "metadata": {},
   "outputs": [],
   "source": [
    "class VGGHead(nn.Module):\n",
    "    def __init__(self, pretrained_net):\n",
    "        super(VGGHead, self).__init__()\n",
    "        self.ranges = ((0, 5), (5, 10), (10, 17), (17, 24), (24, 31))\n",
    "        self.pretrained_net = pretrained_net\n",
    "        \n",
    "    def forward(self, x):\n",
    "        output = {}\n",
    "        # get the output of each maxpooling layer (5 maxpool in VGG net)\n",
    "        for idx in range(len(self.ranges)):\n",
    "            for layer in range(self.ranges[idx][0], self.ranges[idx][1]):\n",
    "                 x = self.pretrained_net[layer](x)\n",
    "            output[\"x%d\"%(idx+1)] = x\n",
    "        return output\n",
    "    "
   ]
  },
  {
   "cell_type": "code",
   "execution_count": 6,
   "metadata": {},
   "outputs": [],
   "source": [
    "class FCN8s(nn.Module):\n",
    "    def __init__(self, pretrained_net, n_class):\n",
    "        super(FCN8s, self).__init__()\n",
    "        self.n_class = n_class\n",
    "        self.pretrained_net = pretrained_net\n",
    "        self.relu = nn.ReLU(inplace=True)\n",
    "        \n",
    "        self.deconv1 = nn.ConvTranspose2d(512, 512, kernel_size=2, stride=2, padding=0, dilation=1)\n",
    "        self.bn1 = nn.BatchNorm2d(512)\n",
    "        \n",
    "        self.deconv2 = nn.ConvTranspose2d(512, 256, kernel_size=2, stride=2, padding=0, dilation=1)\n",
    "        self.bn2 = nn.BatchNorm2d(256)\n",
    "        \n",
    "        self.deconv3 = nn.ConvTranspose2d(256, 128, kernel_size=2, stride=2, padding=0, dilation=1)\n",
    "        self.bn3 = nn.BatchNorm2d(128)\n",
    "        \n",
    "        self.deconv4 = nn.ConvTranspose2d(128, 64, kernel_size=2, stride=2, padding=0, dilation=1)\n",
    "        self.bn4 = nn.BatchNorm2d(64)\n",
    "        \n",
    "        self.deconv5 = nn.ConvTranspose2d(64, 32, kernel_size=2, stride=2, padding=0, dilation=1)\n",
    "        self.bn5 = nn.BatchNorm2d(32)\n",
    "        \n",
    "        self.classifier = nn.Conv2d(32, n_class, kernel_size=1)\n",
    "    \n",
    "    def forward(self, x):\n",
    "        output = self.pretrained_net(x)\n",
    "        \n",
    "        x5 = output['x5']  # size=(N, 512, x.H/32, x.W/32)\n",
    "        x4 = output['x4']  # size=(N, 512, x.H/16, x.W/16)\n",
    "        x3 = output['x3']  # size=(N, 256, x.H/8,  x.W/8)\n",
    "\n",
    "        score = self.relu(self.deconv1(x5))               # size=(N, 512, x.H/16, x.W/16)\n",
    "        score = F.interpolate(score, x4.size()[2:], mode='bilinear', align_corners=True)\n",
    "        score = self.bn1(score + x4)                      # element-wise add, size=(N, 512, x.H/16, x.W/16)\n",
    "        \n",
    "        score = self.relu(self.deconv2(score))            # size=(N, 256, x.H/8, x.W/8)\n",
    "        score = F.interpolate(score, x3.size()[2:], mode='bilinear', align_corners=True)\n",
    "        score = self.bn2(score + x3)                      # element-wise add, size=(N, 256, x.H/8, x.W/8)\n",
    "        \n",
    "        score = self.bn3(self.relu(self.deconv3(score)))  # size=(N, 128, x.H/4, x.W/4)\n",
    "        score = self.bn4(self.relu(self.deconv4(score)))  # size=(N, 64, x.H/2, x.W/2)\n",
    "        \n",
    "        score = self.bn5(self.relu(self.deconv5(score)))  # size=(N, 32, x.H, x.W)\n",
    "        score = self.classifier(score)                    # size=(N, n_class, x.H/1, x.W/1)\n",
    "        \n",
    "        score = F.interpolate(score, x.size()[2:], mode='bilinear', align_corners=True)\n",
    "        \n",
    "        score = score.double()\n",
    "\n",
    "        return score  # size=(N, n_class, x.H/1, x.W/1)\n",
    "        "
   ]
  },
  {
   "cell_type": "code",
   "execution_count": null,
   "metadata": {},
   "outputs": [],
   "source": []
  },
  {
   "cell_type": "markdown",
   "metadata": {},
   "source": [
    "# Train FCN"
   ]
  },
  {
   "cell_type": "code",
   "execution_count": 7,
   "metadata": {},
   "outputs": [
    {
     "name": "stdout",
     "output_type": "stream",
     "text": [
      "Configs: FCNs-BCEWithLogits_batch1_epoch40_RMSprop_scheduler-step50-gamma0.5_lr0.0001_momentum0_w_decay0.0001\n"
     ]
    }
   ],
   "source": [
    "n_class = 21\n",
    "batch_size = 1\n",
    "epochs = 40\n",
    "lr = 1e-4\n",
    "momentum = 0\n",
    "w_decay = 1e-4\n",
    "step_size = 50\n",
    "gamma = 0.5\n",
    "\n",
    "configs    = \"FCNs-BCEWithLogits_batch{}_epoch{}_RMSprop_scheduler-step{}-gamma{}_lr{}_momentum{}_w_decay{}\".format(batch_size, \n",
    "                                                                                                                    epochs, step_size, gamma, lr, momentum, w_decay)\n",
    "print(\"Configs:\", configs)"
   ]
  },
  {
   "cell_type": "code",
   "execution_count": 8,
   "metadata": {},
   "outputs": [
    {
     "name": "stdout",
     "output_type": "stream",
     "text": [
      "Finish cuda loading, time elapsed 1.9775159358978271\n"
     ]
    }
   ],
   "source": [
    "# create dir for model\n",
    "model_dir = \"models\"\n",
    "if not os.path.exists(model_dir):\n",
    "    os.makedirs(model_dir)\n",
    "model_path = os.path.join(model_dir, configs)\n",
    "\n",
    "use_gpu = torch.cuda.is_available()\n",
    "\n",
    "pretrained_net = models.vgg16(pretrained=True).features\n",
    "vgghead_model = VGGHead(pretrained_net)\n",
    "fcn_model = FCN8s(pretrained_net=vgghead_model, n_class=n_class)\n",
    "\n",
    "if use_gpu:\n",
    "    ts = time.time()\n",
    "    vgghead_model = vgghead_model.cuda()\n",
    "    fcn_model = fcn_model.cuda()\n",
    "    print(\"Finish cuda loading, time elapsed {}\".format(time.time() - ts))"
   ]
  },
  {
   "cell_type": "code",
   "execution_count": 9,
   "metadata": {},
   "outputs": [],
   "source": [
    "# criterion = nn.BCEWithLogitsLoss()\n",
    "criterion = nn.CrossEntropyLoss()\n",
    "\n",
    "params = [p for p in fcn_model.parameters() if p.requires_grad]\n",
    "optimizer = optim.RMSprop(params, lr=lr, momentum=momentum)\n",
    "#optimizer = optim.Adam(params, lr=lr)\n",
    "\n",
    "scheduler = lr_scheduler.StepLR(optimizer, step_size=step_size, gamma=gamma)  # decay LR by a factor of 0.5 every 30 epochs"
   ]
  },
  {
   "cell_type": "code",
   "execution_count": null,
   "metadata": {},
   "outputs": [],
   "source": [
    "for epoch in range(epochs):\n",
    "    fcn_model = fcn_model.train()\n",
    "    ts = time.time()\n",
    "    for iter, batch in enumerate(dataloader):\n",
    "        optimizer.zero_grad()\n",
    "        \n",
    "        if use_gpu:\n",
    "            inputs = Variable(batch[0].cuda())\n",
    "            labels = Variable(batch[1].cuda()).long()\n",
    "        else:\n",
    "            inputs, labels = Variable(batch[0]), Variable(batch[1]).long()\n",
    "            \n",
    "        outputs = fcn_model(inputs)\n",
    "        # outputs = outputs.argmax(axis=1).unsqueeze(0).double()  \n",
    "        \n",
    "        loss = criterion(outputs, labels)\n",
    "        \n",
    "        loss.backward()\n",
    "        optimizer.step()\n",
    "        \n",
    "        if iter % 100 == 0:\n",
    "                print(\"epoch{}, iter{}, loss: {}\".format(epoch, iter, loss.item()))\n",
    "    print(\"Finish epoch {}, time elapsed {}\".format(epoch, time.time() - ts))\n",
    "    #torch.save(fcn_model, model_path)\n",
    "        "
   ]
  },
  {
   "cell_type": "code",
   "execution_count": null,
   "metadata": {},
   "outputs": [],
   "source": []
  },
  {
   "cell_type": "markdown",
   "metadata": {},
   "source": [
    "# Save the model"
   ]
  },
  {
   "cell_type": "code",
   "execution_count": 33,
   "metadata": {},
   "outputs": [],
   "source": [
    "# torch.save(fcn_model.state_dict(), 'models/fcn_model_params.pkl')"
   ]
  },
  {
   "cell_type": "code",
   "execution_count": 34,
   "metadata": {},
   "outputs": [],
   "source": [
    "pretrained_net2 = models.vgg16(pretrained=False).features\n",
    "vgghead_model2 = VGGHead(pretrained_net2)\n",
    "fcn_model2 = FCN8s(pretrained_net=vgghead_model2, n_class=n_class)"
   ]
  },
  {
   "cell_type": "code",
   "execution_count": 35,
   "metadata": {},
   "outputs": [
    {
     "data": {
      "text/plain": [
       "<All keys matched successfully>"
      ]
     },
     "execution_count": 35,
     "metadata": {},
     "output_type": "execute_result"
    }
   ],
   "source": [
    "fcn_model2.load_state_dict(torch.load('models/fcn_model_params.pkl'))"
   ]
  },
  {
   "cell_type": "code",
   "execution_count": 36,
   "metadata": {},
   "outputs": [],
   "source": [
    "fcn_model2 = fcn_model2.cuda()"
   ]
  },
  {
   "cell_type": "markdown",
   "metadata": {},
   "source": [
    "# VAL"
   ]
  },
  {
   "cell_type": "code",
   "execution_count": 37,
   "metadata": {},
   "outputs": [],
   "source": [
    "root = './VOC_test'\n",
    "dataset_test = torchvision.datasets.VOCSegmentation(root, year='2012', image_set='val', download=False,\n",
    "                                               transform = transforms.Compose([transforms.ToTensor(), \n",
    "                                                                               transforms.Normalize([0.485, 0.456, 0.406], [0.229, 0.224, 0.225])]),\n",
    "                                              target_transform = transforms.Compose([LabelToTensor()]))\n",
    "dataset2_test = torchvision.datasets.VOCSegmentation(root, year='2012', image_set='val', download=False)\n",
    "\n",
    "dataloader_test = DataLoader(dataset_test, batch_size=1,\n",
    "                        shuffle=True, num_workers=4)"
   ]
  },
  {
   "cell_type": "code",
   "execution_count": 76,
   "metadata": {},
   "outputs": [
    {
     "data": {
      "text/plain": [
       "<matplotlib.image.AxesImage at 0x7f5b641f82b0>"
      ]
     },
     "execution_count": 76,
     "metadata": {},
     "output_type": "execute_result"
    },
    {
     "data": {
      "image/png": "[encoded data removed]",
      "text/plain": [
       "<Figure size 504x504 with 1 Axes>"
      ]
     },
     "metadata": {
      "needs_background": "light"
     },
     "output_type": "display_data"
    }
   ],
   "source": [
    "process = transforms.Compose([transforms.ToTensor(), transforms.Normalize([0.485, 0.456, 0.406], [0.229, 0.224, 0.225])])\n",
    "image2, target2 = dataset2[400]\n",
    "image2 = process(image2)\n",
    "\n",
    "fcn_model2.eval()\n",
    "fcn_model.eval()\n",
    "cm = np.array(colormap).astype('uint8')\n",
    "im = Variable(image2.unsqueeze(0)).cuda()\n",
    "out = fcn_model2(im)\n",
    "pred = out.max(1)[1].squeeze().cpu().data.numpy()\n",
    "pred = cm[pred]\n",
    "\n",
    "plt.figure(figsize=(7, 7))\n",
    "plt.imshow(pred)"
   ]
  },
  {
   "cell_type": "code",
   "execution_count": 77,
   "metadata": {},
   "outputs": [
    {
     "data": {
      "image/png": "[encoded data removed]",
      "text/plain": [
       "<PIL.PngImagePlugin.PngImageFile image mode=P size=500x375 at 0x7F5B6424B630>"
      ]
     },
     "execution_count": 77,
     "metadata": {},
     "output_type": "execute_result"
    }
   ],
   "source": [
    "target2"
   ]
  },
  {
   "cell_type": "code",
   "execution_count": 20,
   "metadata": {},
   "outputs": [
    {
     "name": "stdout",
     "output_type": "stream",
     "text": [
      "torch.Size([3, 366, 500])\n",
      "torch.Size([366, 500])\n"
     ]
    }
   ],
   "source": [
    "test_image, test_target = dataset_test[0]\n",
    "test_image2, test_target2 = dataset2_test[0]\n",
    "print(test_image.size())\n",
    "print(test_target.size())"
   ]
  },
  {
   "cell_type": "code",
   "execution_count": 21,
   "metadata": {},
   "outputs": [],
   "source": [
    "def iou(pred, target):\n",
    "    # 输入都是1维度\n",
    "    ious = []\n",
    "    for cls in range(n_class):\n",
    "        pred_inds = pred == cls\n",
    "        target_inds = target == cls\n",
    "        intersection = pred_inds[target_inds].sum()\n",
    "        union = pred_inds.sum() + target_inds.sum() - intersection\n",
    "        if union == 0:\n",
    "            ious.append(float('nan'))  # if there is no ground truth, do not include in evaluation\n",
    "        else:\n",
    "            ious.append(float(intersection) / max(union, 1))\n",
    "        # print(\"cls\", cls, pred_inds.sum(), target_inds.sum(), intersection, float(intersection) / max(union, 1))\n",
    "    return ious\n",
    "\n",
    "def pixel_acc(pred, target):\n",
    "    correct = (pred == target).sum()\n",
    "    total   = (target == target).sum()\n",
    "    return correct / total"
   ]
  },
  {
   "cell_type": "code",
   "execution_count": 55,
   "metadata": {},
   "outputs": [
    {
     "name": "stdout",
     "output_type": "stream",
     "text": [
      "pix_acc: 0.945934372913235, meanIoU: 0.11417843944312747\n"
     ]
    }
   ],
   "source": [
    "total_ious = []\n",
    "pixel_accs = []\n",
    "for iter, batch in enumerate(dataloader):\n",
    "    if use_gpu:\n",
    "        inputs = Variable(batch[0].cuda())\n",
    "        labels = Variable(batch[1].cuda()).long()\n",
    "    else:\n",
    "        inputs, labels = Variable(batch[0]), Variable(batch[1]).long()\n",
    "    \n",
    "    outputs = fcn_model2(inputs)\n",
    "    output = outputs.data.cpu().numpy()  \n",
    "    N, _, h, w = output.shape\n",
    "    pred = output.transpose(0, 2, 3, 1).reshape(-1, n_class).argmax(axis=1).reshape(N, h, w)\n",
    "    target = labels.cpu().numpy().reshape(N, h, w)\n",
    "    \n",
    "    total_ious.append(iou(pred, target))\n",
    "    pixel_accs.append(pixel_acc(pred, target))\n",
    "    if iter == 7:\n",
    "        break;\n",
    "# Calculate average IoU\n",
    "total_ious = np.array(total_ious).T  # n_class * val_len\n",
    "ious = np.nanmean(total_ious, axis=1)\n",
    "pixel_accs = np.array(pixel_accs).mean()\n",
    "print(\"pix_acc: {}, meanIoU: {}\".format(pixel_accs, np.nanmean(ious)))"
   ]
  },
  {
   "cell_type": "code",
   "execution_count": null,
   "metadata": {},
   "outputs": [],
   "source": []
  }
 ],
 "metadata": {
  "kernelspec": {
   "display_name": "Python 3",
   "language": "python",
   "name": "python3"
  },
  "language_info": {
   "codemirror_mode": {
    "name": "ipython",
    "version": 3
   },
   "file_extension": ".py",
   "mimetype": "text/x-python",
   "name": "python",
   "nbconvert_exporter": "python",
   "pygments_lexer": "ipython3",
   "version": "3.7.6"
  }
 },
 "nbformat": 4,
 "nbformat_minor": 4
}
